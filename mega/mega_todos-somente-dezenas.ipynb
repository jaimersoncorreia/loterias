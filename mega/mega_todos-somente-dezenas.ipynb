{
 "cells": [
  {
   "cell_type": "markdown",
   "metadata": {},
   "source": [
    "## Aqui serão baixados somentes as dezenas\n",
    "\n",
    "Baixando e o arquivo zipado e depois descompactando \n"
   ]
  },
  {
   "cell_type": "code",
   "execution_count": 1,
   "metadata": {},
   "outputs": [],
   "source": [
    "import requests, zipfile, io\n",
    "r = requests.get(\"http://www1.caixa.gov.br/loterias/_arquivos/loterias/D_mgsasc.zip\")\n",
    "z = zipfile.ZipFile(io.BytesIO(r.content))\n",
    "z.extractall(path=\"html/\")"
   ]
  },
  {
   "cell_type": "markdown",
   "metadata": {},
   "source": [
    "Fazendo o tratamento dos dados"
   ]
  },
  {
   "cell_type": "code",
   "execution_count": 2,
   "metadata": {},
   "outputs": [],
   "source": [
    "with open('html/d_megasc.htm', 'rb') as arq:\n",
    "    html_conteudo = arq.read()\n",
    "\n",
    "from bs4 import BeautifulSoup\n",
    "soup = BeautifulSoup(html_conteudo, 'html.parser')\n",
    "arq.close()\n"
   ]
  },
  {
   "cell_type": "code",
   "execution_count": 3,
   "metadata": {},
   "outputs": [],
   "source": [
    "def busca_cabecalho():\n",
    "    lista_cabecalho = ['dez_01', 'dez_02', 'dez_03', 'dez_04', 'dez_05', 'dez_06']\n",
    "    return lista_cabecalho"
   ]
  },
  {
   "cell_type": "code",
   "execution_count": 4,
   "metadata": {},
   "outputs": [],
   "source": [
    "def busca_dezenas_linhas(itens_dezenas):\n",
    "    lista_dezenas = []\n",
    "    for item in itens_dezenas:        \n",
    "        lista_dezenas.append(item.text.replace('.','').replace(',','.'))    \n",
    "    try:\n",
    "        del lista_dezenas[10]\n",
    "        del lista_dezenas[10]\n",
    "        del lista_dezenas[8]\n",
    "        del lista_dezenas[-1]\n",
    "        del lista_dezenas[-1]\n",
    "        del lista_dezenas[-1]\n",
    "        del lista_dezenas[8:17]\n",
    "        del lista_dezenas[:2]\n",
    "    except:\n",
    "        del lista_dezenas[-1]\n",
    "        del lista_dezenas[-1]      \n",
    "    return lista_dezenas\n"
   ]
  },
  {
   "cell_type": "code",
   "execution_count": 5,
   "metadata": {},
   "outputs": [],
   "source": [
    "def busca_dezenas_all():\n",
    "    dezenas = soup.find_all('tr')\n",
    "    todas = []\n",
    "    #todas.append(busca_cabecalho())#comentar depois\n",
    "    for i in range(1, len(dezenas)):\n",
    "        item1_dezenas = dezenas[i].find_all('td')[0].text\n",
    "        demais_dezenas = dezenas[i].find_all('td')\n",
    "        \n",
    "        try:\n",
    "            linha = busca_dezenas_linhas(demais_dezenas)\n",
    "            if not len(linha) == 0:\n",
    "                todas.append(linha)            \n",
    "        except:\n",
    "            pass  \n",
    "    return todas"
   ]
  },
  {
   "cell_type": "code",
   "execution_count": 6,
   "metadata": {},
   "outputs": [],
   "source": [
    "import csv"
   ]
  },
  {
   "cell_type": "code",
   "execution_count": 7,
   "metadata": {},
   "outputs": [],
   "source": [
    "mega_csv = busca_dezenas_all()\n",
    "with open('csv/megasena.csv', 'w') as salva_csv:\n",
    "    grava = csv.writer(salva_csv)\n",
    "    grava.writerows(mega_csv)\n",
    "salva_csv.close()"
   ]
  },
  {
   "cell_type": "code",
   "execution_count": null,
   "metadata": {},
   "outputs": [],
   "source": []
  }
 ],
 "metadata": {
  "kernelspec": {
   "display_name": "Python 3",
   "language": "python",
   "name": "python3"
  },
  "language_info": {
   "codemirror_mode": {
    "name": "ipython",
    "version": 3
   },
   "file_extension": ".py",
   "mimetype": "text/x-python",
   "name": "python",
   "nbconvert_exporter": "python",
   "pygments_lexer": "ipython3",
   "version": "3.6.4"
  }
 },
 "nbformat": 4,
 "nbformat_minor": 2
}
