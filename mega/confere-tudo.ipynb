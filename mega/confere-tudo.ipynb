{
 "cells": [
  {
   "cell_type": "code",
   "execution_count": 1,
   "metadata": {},
   "outputs": [],
   "source": [
    "import pandas as pd\n",
    "import lib.lib_cofere_tudo as confere"
   ]
  },
  {
   "cell_type": "markdown",
   "metadata": {},
   "source": [
    "### Aqui vai ser inverso"
   ]
  },
  {
   "cell_type": "code",
   "execution_count": 2,
   "metadata": {},
   "outputs": [
    {
     "name": "stdout",
     "output_type": "stream",
     "text": [
      "['02', '03', '10', '20', '23', '60']\tSena:0, Quina:0, Quadra:0\n",
      "['03', '10', '23', '24', '42', '60']\tSena:0, Quina:0, Quadra:3\n",
      "['03', '10', '18', '23', '35', '60']\tSena:0, Quina:0, Quadra:0\n",
      "['03', '10', '23', '29', '47', '60']\tSena:0, Quina:1, Quadra:3\n",
      "['02', '03', '10', '20', '24', '42']\tSena:0, Quina:0, Quadra:2\n",
      "['02', '03', '10', '18', '20', '35']\tSena:0, Quina:0, Quadra:1\n",
      "['02', '03', '10', '20', '29', '47']\tSena:0, Quina:0, Quadra:1\n",
      "['03', '10', '18', '24', '35', '42']\tSena:0, Quina:0, Quadra:1\n",
      "['03', '10', '24', '29', '42', '47']\tSena:0, Quina:0, Quadra:1\n",
      "['03', '10', '18', '29', '35', '47']\tSena:0, Quina:0, Quadra:1\n",
      "['02', '20', '23', '24', '42', '60']\tSena:0, Quina:0, Quadra:0\n",
      "['02', '18', '20', '23', '35', '60']\tSena:0, Quina:0, Quadra:0\n",
      "['02', '20', '23', '29', '47', '60']\tSena:0, Quina:0, Quadra:2\n",
      "['18', '23', '24', '35', '42', '60']\tSena:0, Quina:0, Quadra:0\n",
      "['23', '24', '29', '42', '47', '60']\tSena:0, Quina:0, Quadra:6\n",
      "['18', '23', '29', '35', '47', '60']\tSena:0, Quina:0, Quadra:2\n",
      "['02', '18', '20', '24', '35', '42']\tSena:0, Quina:0, Quadra:1\n",
      "['02', '20', '24', '29', '42', '47']\tSena:0, Quina:0, Quadra:0\n",
      "['02', '18', '20', '29', '35', '47']\tSena:0, Quina:0, Quadra:1\n",
      "['18', '24', '29', '35', '42', '47']\tSena:0, Quina:0, Quadra:0\n",
      "['04', '30', '34', '37', '56', '59']\tSena:0, Quina:0, Quadra:2\n",
      "['04', '08', '30', '34', '48', '56']\tSena:0, Quina:0, Quadra:0\n",
      "['04', '14', '30', '34', '55', '56']\tSena:0, Quina:0, Quadra:1\n",
      "['04', '06', '13', '30', '34', '56']\tSena:0, Quina:0, Quadra:2\n",
      "['08', '34', '37', '48', '56', '59']\tSena:0, Quina:0, Quadra:0\n",
      "['14', '34', '37', '55', '56', '59']\tSena:0, Quina:0, Quadra:0\n",
      "['06', '13', '34', '37', '56', '59']\tSena:0, Quina:0, Quadra:2\n",
      "['08', '14', '34', '48', '55', '56']\tSena:0, Quina:0, Quadra:0\n",
      "['06', '08', '13', '34', '48', '56']\tSena:0, Quina:0, Quadra:1\n",
      "['06', '13', '14', '34', '55', '56']\tSena:0, Quina:0, Quadra:0\n",
      "['04', '08', '30', '37', '48', '59']\tSena:0, Quina:1, Quadra:1\n",
      "['04', '14', '30', '37', '55', '59']\tSena:0, Quina:0, Quadra:2\n",
      "['04', '06', '13', '30', '37', '59']\tSena:0, Quina:0, Quadra:5\n",
      "['04', '08', '14', '30', '48', '55']\tSena:0, Quina:0, Quadra:0\n",
      "['04', '06', '08', '13', '30', '48']\tSena:0, Quina:0, Quadra:0\n",
      "['04', '06', '13', '14', '30', '55']\tSena:0, Quina:0, Quadra:1\n",
      "['08', '14', '37', '48', '55', '59']\tSena:0, Quina:0, Quadra:0\n",
      "['06', '08', '13', '37', '48', '59']\tSena:0, Quina:0, Quadra:1\n",
      "['06', '13', '14', '37', '55', '59']\tSena:0, Quina:0, Quadra:1\n",
      "['06', '08', '13', '14', '48', '55']\tSena:0, Quina:0, Quadra:0\n",
      "['12', '19', '22', '28', '50', '54']\tSena:0, Quina:0, Quadra:2\n",
      "['12', '19', '22', '28', '44', '58']\tSena:0, Quina:0, Quadra:2\n",
      "['05', '12', '19', '22', '28', '40']\tSena:0, Quina:0, Quadra:1\n",
      "['07', '12', '19', '21', '22', '28']\tSena:0, Quina:0, Quadra:2\n",
      "['19', '28', '44', '50', '54', '58']\tSena:0, Quina:0, Quadra:1\n",
      "['05', '19', '28', '40', '50', '54']\tSena:0, Quina:0, Quadra:0\n",
      "['07', '19', '21', '28', '50', '54']\tSena:0, Quina:0, Quadra:1\n",
      "['05', '19', '28', '40', '44', '58']\tSena:0, Quina:0, Quadra:1\n",
      "['07', '19', '21', '28', '44', '58']\tSena:0, Quina:0, Quadra:1\n",
      "['05', '07', '19', '21', '28', '40']\tSena:0, Quina:0, Quadra:0\n",
      "['12', '22', '44', '50', '54', '58']\tSena:0, Quina:0, Quadra:1\n",
      "['05', '12', '22', '40', '50', '54']\tSena:0, Quina:0, Quadra:0\n",
      "['07', '12', '21', '22', '50', '54']\tSena:0, Quina:0, Quadra:3\n",
      "['05', '12', '22', '40', '44', '58']\tSena:0, Quina:0, Quadra:2\n",
      "['07', '12', '21', '22', '44', '58']\tSena:0, Quina:0, Quadra:0\n",
      "['05', '07', '12', '21', '22', '40']\tSena:0, Quina:0, Quadra:0\n",
      "['05', '40', '44', '50', '54', '58']\tSena:0, Quina:0, Quadra:0\n",
      "['07', '21', '44', '50', '54', '58']\tSena:0, Quina:0, Quadra:0\n",
      "['05', '07', '21', '40', '50', '54']\tSena:0, Quina:0, Quadra:0\n",
      "['05', '07', '21', '40', '44', '58']\tSena:0, Quina:0, Quadra:0\n",
      "['09', '11', '31', '38', '43', '57']\tSena:0, Quina:0, Quadra:1\n",
      "['09', '11', '17', '38', '39', '57']\tSena:0, Quina:0, Quadra:1\n",
      "['01', '09', '11', '38', '53', '57']\tSena:0, Quina:0, Quadra:0\n",
      "['09', '11', '25', '26', '38', '57']\tSena:0, Quina:0, Quadra:0\n",
      "['09', '11', '17', '31', '39', '43']\tSena:0, Quina:0, Quadra:3\n",
      "['01', '09', '11', '31', '43', '53']\tSena:0, Quina:0, Quadra:0\n",
      "['09', '11', '25', '26', '31', '43']\tSena:0, Quina:0, Quadra:0\n",
      "['01', '09', '11', '17', '39', '53']\tSena:0, Quina:0, Quadra:1\n",
      "['09', '11', '17', '25', '26', '39']\tSena:0, Quina:0, Quadra:1\n",
      "['01', '09', '11', '25', '26', '53']\tSena:0, Quina:0, Quadra:0\n",
      "['17', '31', '38', '39', '43', '57']\tSena:0, Quina:0, Quadra:0\n",
      "['01', '31', '38', '43', '53', '57']\tSena:0, Quina:0, Quadra:0\n",
      "['25', '26', '31', '38', '43', '57']\tSena:0, Quina:0, Quadra:0\n",
      "['01', '17', '38', '39', '53', '57']\tSena:0, Quina:0, Quadra:0\n",
      "['17', '25', '26', '38', '39', '57']\tSena:0, Quina:0, Quadra:0\n",
      "['01', '25', '26', '38', '53', '57']\tSena:0, Quina:0, Quadra:0\n",
      "['01', '17', '31', '39', '43', '53']\tSena:0, Quina:0, Quadra:2\n",
      "['17', '25', '26', '31', '39', '43']\tSena:0, Quina:0, Quadra:2\n",
      "['01', '25', '26', '31', '43', '53']\tSena:0, Quina:0, Quadra:1\n",
      "['01', '17', '25', '26', '39', '53']\tSena:0, Quina:0, Quadra:0\n",
      "['15', '16', '32', '33', '46', '51']\tSena:0, Quina:0, Quadra:2\n",
      "['15', '16', '27', '32', '45', '46']\tSena:0, Quina:0, Quadra:3\n",
      "['15', '16', '32', '36', '41', '46']\tSena:0, Quina:0, Quadra:0\n",
      "['15', '16', '32', '46', '49', '52']\tSena:0, Quina:0, Quadra:1\n",
      "['27', '32', '33', '45', '46', '51']\tSena:0, Quina:0, Quadra:1\n",
      "['32', '33', '36', '41', '46', '51']\tSena:0, Quina:0, Quadra:2\n",
      "['32', '33', '46', '49', '51', '52']\tSena:0, Quina:0, Quadra:0\n",
      "['27', '32', '36', '41', '45', '46']\tSena:0, Quina:0, Quadra:1\n",
      "['27', '32', '45', '46', '49', '52']\tSena:0, Quina:0, Quadra:2\n",
      "['32', '36', '41', '46', '49', '52']\tSena:0, Quina:0, Quadra:1\n",
      "['15', '16', '27', '33', '45', '51']\tSena:0, Quina:0, Quadra:3\n",
      "['15', '16', '33', '36', '41', '51']\tSena:0, Quina:0, Quadra:4\n",
      "['15', '16', '33', '49', '51', '52']\tSena:0, Quina:0, Quadra:2\n",
      "['15', '16', '27', '36', '41', '45']\tSena:0, Quina:1, Quadra:0\n",
      "['15', '16', '27', '45', '49', '52']\tSena:0, Quina:0, Quadra:1\n",
      "['15', '16', '36', '41', '49', '52']\tSena:0, Quina:0, Quadra:1\n",
      "['27', '33', '36', '41', '45', '51']\tSena:0, Quina:1, Quadra:0\n",
      "['27', '33', '45', '49', '51', '52']\tSena:0, Quina:0, Quadra:2\n",
      "['33', '36', '41', '49', '51', '52']\tSena:0, Quina:0, Quadra:2\n",
      "['27', '36', '41', '45', '49', '52']\tSena:0, Quina:0, Quadra:3\n",
      "['05', '10', '23', '36', '45', '53']\tSena:0, Quina:0, Quadra:0\n",
      "\n",
      "\n",
      "Relatório\n",
      "Total:\tSena:0, Quina:4, Quadra:104\n"
     ]
    }
   ],
   "source": [
    "megasena = pd.read_csv('csv/megasena.csv',names = ['01','02','03','04','05','06']).iloc[:, :].values\n",
    "#megasena = pd.read_csv('csv/last10.csv',names = ['01','02','03','04','05','06']).iloc[:, :].values\n",
    "\n",
    "meus_jogos = pd.read_csv('csv/virada/jogo-milionario.csv',names = ['01','02','03','04','05','06']).iloc[:, :].values\n",
    "\n",
    "confere.confere_full(megasena, meus_jogos)"
   ]
  },
  {
   "cell_type": "code",
   "execution_count": null,
   "metadata": {},
   "outputs": [],
   "source": [
    "\n"
   ]
  }
 ],
 "metadata": {
  "kernelspec": {
   "display_name": "Python 3",
   "language": "python",
   "name": "python3"
  },
  "language_info": {
   "codemirror_mode": {
    "name": "ipython",
    "version": 3
   },
   "file_extension": ".py",
   "mimetype": "text/x-python",
   "name": "python",
   "nbconvert_exporter": "python",
   "pygments_lexer": "ipython3",
   "version": "3.6.4"
  }
 },
 "nbformat": 4,
 "nbformat_minor": 2
}
