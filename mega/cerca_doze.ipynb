{
 "cells": [
  {
   "cell_type": "markdown",
   "metadata": {},
   "source": [
    "## Aqui faz cerco com 12 gerando 20 jogos"
   ]
  },
  {
   "cell_type": "code",
   "execution_count": 1,
   "metadata": {},
   "outputs": [
    {
     "name": "stdout",
     "output_type": "stream",
     "text": [
      "Informe nome do jogo: ricos2020\n"
     ]
    }
   ],
   "source": [
    "mega_virada = input(\"Informe nome do jogo: \")"
   ]
  },
  {
   "cell_type": "code",
   "execution_count": 2,
   "metadata": {},
   "outputs": [],
   "source": [
    "import csv\n",
    "import lib.lib_cerca_doze as doze\n",
    "import lib.gera_sessenta as sessenta"
   ]
  },
  {
   "cell_type": "code",
   "execution_count": 3,
   "metadata": {},
   "outputs": [],
   "source": [
    "result = sessenta.gera_sessenta()"
   ]
  },
  {
   "cell_type": "code",
   "execution_count": 4,
   "metadata": {},
   "outputs": [
    {
     "name": "stdout",
     "output_type": "stream",
     "text": [
      "------------------------------------------------------------------------------------------\n",
      "['16', '41', '45', '19', '47', '24', '34', '35', '50', '06', '57', '02']\n",
      "|Qtde Números:12\t|Média:31.333333333333332\t|Qtde par:06\t|Qtde impar:06\n",
      "------------------------------------------------------------------------------------------\n",
      "['09', '38', '58', '55', '13', '37', '51', '59', '33', '43', '42', '36']\n",
      "|Qtde Números:12\t|Média:39.5\t|Qtde par:04\t|Qtde impar:08\n",
      "------------------------------------------------------------------------------------------\n",
      "['53', '03', '48', '05', '11', '49', '40', '29', '56', '08', '14', '28']\n",
      "|Qtde Números:12\t|Média:28.666666666666668\t|Qtde par:06\t|Qtde impar:06\n",
      "------------------------------------------------------------------------------------------\n",
      "['46', '27', '21', '20', '26', '60', '30', '17', '10', '01', '39', '31']\n",
      "|Qtde Números:12\t|Média:27.333333333333332\t|Qtde par:06\t|Qtde impar:06\n",
      "------------------------------------------------------------------------------------------\n",
      "['23', '32', '15', '52', '07', '22', '18', '04', '12', '44', '25', '54']\n",
      "|Qtde Números:12\t|Média:25.666666666666668\t|Qtde par:08\t|Qtde impar:04\n",
      "------------------------------------------------------------------------------------------\n"
     ]
    }
   ],
   "source": [
    "doze.show(result)"
   ]
  },
  {
   "cell_type": "code",
   "execution_count": 5,
   "metadata": {},
   "outputs": [],
   "source": [
    "matriz_geradora = doze.matriz_geradora()"
   ]
  },
  {
   "cell_type": "code",
   "execution_count": 6,
   "metadata": {},
   "outputs": [
    {
     "name": "stdout",
     "output_type": "stream",
     "text": [
      "csv/parte_202001.csv\n",
      "Gravado como \"csv/parte_202001.csv\"\n",
      "\n",
      "csv/parte_202002.csv\n",
      "Gravado como \"csv/parte_202002.csv\"\n",
      "\n",
      "csv/parte_202003.csv\n",
      "Gravado como \"csv/parte_202003.csv\"\n",
      "\n",
      "csv/parte_202004.csv\n",
      "Gravado como \"csv/parte_202004.csv\"\n",
      "\n",
      "csv/parte_202005.csv\n",
      "Gravado como \"csv/parte_202005.csv\"\n",
      "\n"
     ]
    }
   ],
   "source": [
    "tudo = []\n",
    "x = 0\n",
    "for parte in doze.cinco_partes(result):\n",
    "    x += 1\n",
    "    nome_arquivo = 'csv/parte_{:02.0f}.csv'.format(x)\n",
    "    print(nome_arquivo)\n",
    "    y = 0\n",
    "    jogo = []\n",
    "    for mg in matriz_geradora:\n",
    "        y += 1\n",
    "        jogo.append(doze.gera_sena(mg,parte))\n",
    "        #print('S{:02.0f} -> {}'.format(y, doze.gera_sena(mg,parte)))\n",
    "    tudo += jogo\n",
    "    doze.grava_partes(nome_arquivo,jogo)    \n",
    "    print()"
   ]
  },
  {
   "cell_type": "code",
   "execution_count": 7,
   "metadata": {},
   "outputs": [
    {
     "name": "stdout",
     "output_type": "stream",
     "text": [
      "Gravado como \"csv/virada/2020_ricos2020.csv\"\n"
     ]
    }
   ],
   "source": [
    "doze.grava_partes('csv/virada/{}.csv'.format(mega_virada),tudo)"
   ]
  },
  {
   "cell_type": "code",
   "execution_count": null,
   "metadata": {},
   "outputs": [],
   "source": []
  }
 ],
 "metadata": {
  "kernelspec": {
   "display_name": "Python 3",
   "language": "python",
   "name": "python3"
  },
  "language_info": {
   "codemirror_mode": {
    "name": "ipython",
    "version": 3
   },
   "file_extension": ".py",
   "mimetype": "text/x-python",
   "name": "python",
   "nbconvert_exporter": "python",
   "pygments_lexer": "ipython3",
   "version": "3.7.0"
  }
 },
 "nbformat": 4,
 "nbformat_minor": 2
}
