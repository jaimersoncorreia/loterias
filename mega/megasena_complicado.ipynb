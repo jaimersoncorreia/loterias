{
 "cells": [
  {
   "cell_type": "markdown",
   "metadata": {},
   "source": [
    "## Requires\n",
    "* pip install jupyter\n",
    "* pip install beautifulsoup4\n",
    "* pip install requests\n",
    "* pip install selenium\n"
   ]
  },
  {
   "cell_type": "markdown",
   "metadata": {},
   "source": [
    "import requests\n",
    "from bs4 import BeautifulSoup\n",
    "\n",
    "def obterDezenasMegaSena():\n",
    "    try:\n",
    "        req = requests.get(\"http://loterias.caixa.gov.br/wps/portal/loterias\")\n",
    "        soup = BeautifulSoup(req.content, \"html.parser\")\n",
    "        ul = soup.findAll(\"ul\", class_=\"resultado-loteria mega-sena\")\n",
    "        return [int(li.text) for li in ul[0].findAll(\"li\")]\n",
    "    except:\n",
    "        return None\n",
    "\n",
    "print(obterDezenasMegaSena())"
   ]
  },
  {
   "cell_type": "code",
   "execution_count": 11,
   "metadata": {},
   "outputs": [],
   "source": [
    "# O modulo time aqui foi utilizado para esperar o carregamento das paginas atraves do firefox\n",
    "import time\n",
    " \n",
    "# o modulo webdriver e necessario para definir qual navegador sera utilizado para fazer a automacao\n",
    "from selenium import webdriver\n",
    " \n",
    "# o modulo Select sera utilizado para interagir com a caixa de selecao onde sera definido o ano em que quero buscar os dados\n",
    "from selenium.webdriver.support.ui import Select\n",
    "from selenium.webdriver.common.keys import Keys\n",
    "from selenium.webdriver.common.by import By\n",
    " \n",
    "# esse modulo sera utilizado para \n",
    "from bs4 import BeautifulSoup\n",
    " \n",
    "# a linha abaixo define qual e o navegador que queremos utilizar, lembrando que eu instalei somente o driver para conexao com o firefox, mas existem tambem para Chrome e InternetExplorer\n",
    "#driver = webdriver.Firefox(executable_path=r'/home/jaimerson/repo/webdriver/geckodriver')\n",
    "driver = webdriver.Chrome(executable_path=r'/home/jaimerson/repo/webdriver/chromedriverv73')\n",
    " \n",
    "# abaixo foi definido qual e o site que quero acessar\n",
    "driver.get(\"http://loterias.caixa.gov.br/wps/portal/loterias/landing/megasena/\")\n",
    "\n"
   ]
  },
  {
   "cell_type": "code",
   "execution_count": 22,
   "metadata": {},
   "outputs": [
    {
     "data": {
      "text/plain": [
       "['11', '12', '26', '30', '37', '53']"
      ]
     },
     "execution_count": 22,
     "metadata": {},
     "output_type": "execute_result"
    }
   ],
   "source": [
    "#busca premiação\n",
    "def busca_premiacao():\n",
    "    pass\n",
    "    \n",
    "#busca a dezenas\n",
    "def busca_dezenas():\n",
    "    dezenas_object = driver.find_element_by_id('ulDezenas')\n",
    "    dezenas_html = dezenas_object.get_attribute(\"innerHTML\")\n",
    "    dezenas = BeautifulSoup(dezenas_html, \"html.parser\")    \n",
    "    dezenas = dezenas.find_all('li')\n",
    "    tratadas = []\n",
    "    for dezena in dezenas:\n",
    "        tratadas.append(dezena.text)\n",
    "    return tratadas\n",
    "\n",
    "#busca o concurso que se é desejado\n",
    "def busca_concurso(numero):\n",
    "    inputConcurso = driver.find_element_by_id('buscaConcurso')\n",
    "    inputConcurso.clear()\n",
    "    inputConcurso.send_keys(numero)\n",
    "    inputConcurso.send_keys(Keys.ENTER)\n",
    "    time.sleep(1)\n",
    "    dezenas = busca_dezenas()\n",
    "    return dezenas\n",
    "\n",
    "busca_concurso('1901')"
   ]
  },
  {
   "cell_type": "code",
   "execution_count": 54,
   "metadata": {},
   "outputs": [
    {
     "data": {
      "text/plain": [
       "'\\t\\t\\t\\t\\t\\t4645 apostas ganhadoras, R$ 850,28'"
      ]
     },
     "execution_count": 54,
     "metadata": {},
     "output_type": "execute_result"
    }
   ],
   "source": [
    "def busca_concurso_teste(numero):\n",
    "    inputConcurso = driver.find_element_by_id('buscaConcurso')\n",
    "    inputConcurso.clear()\n",
    "    inputConcurso.send_keys(numero)\n",
    "    inputConcurso.send_keys(Keys.ENTER)\n",
    "    time.sleep(1)\n",
    "    #corpo = driver.find_element_by_tag_name('body')\n",
    "    corpo = driver.find_element_by_xpath('//*[@id=\"conteudoresultado\"]/div[3]/div[2]')\n",
    "    corpo_html = corpo.get_attribute(\"innerHTML\")    \n",
    "    corpo_soup = BeautifulSoup(corpo_html, \"html.parser\") \n",
    "    teste = corpo_soup.find_all('p')[2]\n",
    "    return teste.text.split('\\n')[2]\n",
    "busca_concurso_teste('1901')"
   ]
  },
  {
   "cell_type": "code",
   "execution_count": 55,
   "metadata": {},
   "outputs": [
    {
     "name": "stdout",
     "output_type": "stream",
     "text": [
      "fechando browser\n"
     ]
    }
   ],
   "source": [
    "#time.sleep(15)\n",
    "driver.close()\n",
    "print('fechando browser')"
   ]
  },
  {
   "cell_type": "code",
   "execution_count": null,
   "metadata": {},
   "outputs": [],
   "source": []
  }
 ],
 "metadata": {
  "kernelspec": {
   "display_name": "Python 3",
   "language": "python",
   "name": "python3"
  },
  "language_info": {
   "codemirror_mode": {
    "name": "ipython",
    "version": 3
   },
   "file_extension": ".py",
   "mimetype": "text/x-python",
   "name": "python",
   "nbconvert_exporter": "python",
   "pygments_lexer": "ipython3",
   "version": "3.7.4"
  }
 },
 "nbformat": 4,
 "nbformat_minor": 2
}
