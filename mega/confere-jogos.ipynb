{
 "cells": [
  {
   "cell_type": "markdown",
   "metadata": {},
   "source": [
    "05 10 23 36 53"
   ]
  },
  {
   "cell_type": "code",
   "execution_count": 1,
   "metadata": {},
   "outputs": [],
   "source": [
    "import pandas as pd\n",
    "import lib.lib_confere_jogo as confere"
   ]
  },
  {
   "cell_type": "code",
   "execution_count": 2,
   "metadata": {},
   "outputs": [],
   "source": [
    "meus_jogos = pd.read_csv('csv/virada/jogo-milionario.csv',names = ['01','02','03','04','05','06']).iloc[:, :].values"
   ]
  },
  {
   "cell_type": "code",
   "execution_count": 3,
   "metadata": {},
   "outputs": [
    {
     "name": "stdout",
     "output_type": "stream",
     "text": [
      "Jogo001: [ 02 03 10 20 23 60] : Você acertou 1 dezenas\n",
      "Jogo002: [ 03 10 23 24 42 60] : Você acertou 1 dezenas\n",
      "Jogo003: [ 03 10 18 23 35 60] : Você acertou 2 dezenas\n",
      "Jogo004: [ 03 10 23 29 47 60] : Você acertou 1 dezenas\n",
      "Jogo005: [ 02 03 10 20 24 42] : Você acertou 1 dezenas\n",
      "Jogo006: [ 02 03 10 18 20 35] : Você acertou 2 dezenas\n",
      "Jogo007: [ 02 03 10 20 29 47] : Você acertou 1 dezenas\n",
      "Jogo008: [ 03 10 18 24 35 42] : Você acertou 2 dezenas\n",
      "Jogo009: [ 03 10 24 29 42 47] : Você acertou 1 dezenas\n",
      "Jogo010: [ 03 10 18 29 35 47] : Você acertou 2 dezenas\n",
      "Jogo011: [ 02 20 23 24 42 60] : Você acertou 0 dezenas\n",
      "Jogo012: [ 02 18 20 23 35 60] : Você acertou 1 dezenas\n",
      "Jogo013: [ 02 20 23 29 47 60] : Você acertou 0 dezenas\n",
      "Jogo014: [ 18 23 24 35 42 60] : Você acertou 1 dezenas\n",
      "Jogo015: [ 23 24 29 42 47 60] : Você acertou 0 dezenas\n",
      "Jogo016: [ 18 23 29 35 47 60] : Você acertou 1 dezenas\n",
      "Jogo017: [ 02 18 20 24 35 42] : Você acertou 1 dezenas\n",
      "Jogo018: [ 02 20 24 29 42 47] : Você acertou 0 dezenas\n",
      "Jogo019: [ 02 18 20 29 35 47] : Você acertou 1 dezenas\n",
      "Jogo020: [ 18 24 29 35 42 47] : Você acertou 1 dezenas\n",
      "Jogo021: [ 04 30 34 37 56 59] : Você acertou 0 dezenas\n",
      "Jogo022: [ 04 08 30 34 48 56] : Você acertou 0 dezenas\n",
      "Jogo023: [ 04 14 30 34 55 56] : Você acertou 0 dezenas\n",
      "Jogo024: [ 04 06 13 30 34 56] : Você acertou 0 dezenas\n",
      "Jogo025: [ 08 34 37 48 56 59] : Você acertou 0 dezenas\n",
      "Jogo026: [ 14 34 37 55 56 59] : Você acertou 0 dezenas\n",
      "Jogo027: [ 06 13 34 37 56 59] : Você acertou 0 dezenas\n",
      "Jogo028: [ 08 14 34 48 55 56] : Você acertou 0 dezenas\n",
      "Jogo029: [ 06 08 13 34 48 56] : Você acertou 0 dezenas\n",
      "Jogo030: [ 06 13 14 34 55 56] : Você acertou 0 dezenas\n",
      "Jogo031: [ 04 08 30 37 48 59] : Você acertou 0 dezenas\n",
      "Jogo032: [ 04 14 30 37 55 59] : Você acertou 0 dezenas\n",
      "Jogo033: [ 04 06 13 30 37 59] : Você acertou 0 dezenas\n",
      "Jogo034: [ 04 08 14 30 48 55] : Você acertou 0 dezenas\n",
      "Jogo035: [ 04 06 08 13 30 48] : Você acertou 0 dezenas\n",
      "Jogo036: [ 04 06 13 14 30 55] : Você acertou 0 dezenas\n",
      "Jogo037: [ 08 14 37 48 55 59] : Você acertou 0 dezenas\n",
      "Jogo038: [ 06 08 13 37 48 59] : Você acertou 0 dezenas\n",
      "Jogo039: [ 06 13 14 37 55 59] : Você acertou 0 dezenas\n",
      "Jogo040: [ 06 08 13 14 48 55] : Você acertou 0 dezenas\n",
      "Jogo041: [ 12 19 22 28 50 54] : Você acertou 0 dezenas\n",
      "Jogo042: [ 12 19 22 28 44 58] : Você acertou 1 dezenas\n",
      "Jogo043: [ 05 12 19 22 28 40] : Você acertou 1 dezenas\n",
      "Jogo044: [ 07 12 19 21 22 28] : Você acertou 0 dezenas\n",
      "Jogo045: [ 19 28 44 50 54 58] : Você acertou 1 dezenas\n",
      "Jogo046: [ 05 19 28 40 50 54] : Você acertou 1 dezenas\n",
      "Jogo047: [ 07 19 21 28 50 54] : Você acertou 0 dezenas\n",
      "Jogo048: [ 05 19 28 40 44 58] : Você acertou 2 dezenas\n",
      "Jogo049: [ 07 19 21 28 44 58] : Você acertou 1 dezenas\n",
      "Jogo050: [ 05 07 19 21 28 40] : Você acertou 1 dezenas\n",
      "Jogo051: [ 12 22 44 50 54 58] : Você acertou 1 dezenas\n",
      "Jogo052: [ 05 12 22 40 50 54] : Você acertou 1 dezenas\n",
      "Jogo053: [ 07 12 21 22 50 54] : Você acertou 0 dezenas\n",
      "Jogo054: [ 05 12 22 40 44 58] : Você acertou 2 dezenas\n",
      "Jogo055: [ 07 12 21 22 44 58] : Você acertou 1 dezenas\n",
      "Jogo056: [ 05 07 12 21 22 40] : Você acertou 1 dezenas\n",
      "Jogo057: [ 05 40 44 50 54 58] : Você acertou 2 dezenas\n",
      "Jogo058: [ 07 21 44 50 54 58] : Você acertou 1 dezenas\n",
      "Jogo059: [ 05 07 21 40 50 54] : Você acertou 1 dezenas\n",
      "Jogo060: [ 05 07 21 40 44 58] : Você acertou 2 dezenas\n",
      "Jogo061: [ 09 11 31 38 43 57] : Você acertou 2 dezenas\n",
      "Jogo062: [ 09 11 17 38 39 57] : Você acertou 2 dezenas\n",
      "Jogo063: [ 01 09 11 38 53 57] : Você acertou 2 dezenas\n",
      "Jogo064: [ 09 11 25 26 38 57] : Você acertou 2 dezenas\n",
      "Jogo065: [ 09 11 17 31 39 43] : Você acertou 0 dezenas\n",
      "Jogo066: [ 01 09 11 31 43 53] : Você acertou 0 dezenas\n",
      "Jogo067: [ 09 11 25 26 31 43] : Você acertou 0 dezenas\n",
      "Jogo068: [ 01 09 11 17 39 53] : Você acertou 0 dezenas\n",
      "Jogo069: [ 09 11 17 25 26 39] : Você acertou 0 dezenas\n",
      "Jogo070: [ 01 09 11 25 26 53] : Você acertou 0 dezenas\n",
      "Jogo071: [ 17 31 38 39 43 57] : Você acertou 2 dezenas\n",
      "Jogo072: [ 01 31 38 43 53 57] : Você acertou 2 dezenas\n",
      "Jogo073: [ 25 26 31 38 43 57] : Você acertou 2 dezenas\n",
      "Jogo074: [ 01 17 38 39 53 57] : Você acertou 2 dezenas\n",
      "Jogo075: [ 17 25 26 38 39 57] : Você acertou 2 dezenas\n",
      "Jogo076: [ 01 25 26 38 53 57] : Você acertou 2 dezenas\n",
      "Jogo077: [ 01 17 31 39 43 53] : Você acertou 0 dezenas\n",
      "Jogo078: [ 17 25 26 31 39 43] : Você acertou 0 dezenas\n",
      "Jogo079: [ 01 25 26 31 43 53] : Você acertou 0 dezenas\n",
      "Jogo080: [ 01 17 25 26 39 53] : Você acertou 0 dezenas\n",
      "Jogo081: [ 15 16 32 33 46 51] : Você acertou 0 dezenas\n",
      "Jogo082: [ 15 16 27 32 45 46] : Você acertou 0 dezenas\n",
      "Jogo083: [ 15 16 32 36 41 46] : Você acertou 0 dezenas\n",
      "Jogo084: [ 15 16 32 46 49 52] : Você acertou 0 dezenas\n",
      "Jogo085: [ 27 32 33 45 46 51] : Você acertou 0 dezenas\n",
      "Jogo086: [ 32 33 36 41 46 51] : Você acertou 0 dezenas\n",
      "Jogo087: [ 32 33 46 49 51 52] : Você acertou 0 dezenas\n",
      "Jogo088: [ 27 32 36 41 45 46] : Você acertou 0 dezenas\n",
      "Jogo089: [ 27 32 45 46 49 52] : Você acertou 0 dezenas\n",
      "Jogo090: [ 32 36 41 46 49 52] : Você acertou 0 dezenas\n",
      "Jogo091: [ 15 16 27 33 45 51] : Você acertou 0 dezenas\n",
      "Jogo092: [ 15 16 33 36 41 51] : Você acertou 0 dezenas\n",
      "Jogo093: [ 15 16 33 49 51 52] : Você acertou 0 dezenas\n",
      "Jogo094: [ 15 16 27 36 41 45] : Você acertou 0 dezenas\n",
      "Jogo095: [ 15 16 27 45 49 52] : Você acertou 0 dezenas\n",
      "Jogo096: [ 15 16 36 41 49 52] : Você acertou 0 dezenas\n",
      "Jogo097: [ 27 33 36 41 45 51] : Você acertou 0 dezenas\n",
      "Jogo098: [ 27 33 45 49 51 52] : Você acertou 0 dezenas\n",
      "Jogo099: [ 33 36 41 49 51 52] : Você acertou 0 dezenas\n",
      "Jogo100: [ 27 36 41 45 49 52] : Você acertou 0 dezenas\n",
      "Jogo101: [ 05 10 23 36 45 53] : Você acertou 0 dezenas\n",
      "\n",
      "Relatório Final\n",
      "Sena:0\n",
      "Quina:0\n",
      "Quadra:0\n"
     ]
    }
   ],
   "source": [
    "sorteio = list(map(int, ['03','35','38','40','57','58']))\n",
    "confere.confere_todos(sorteio,meus_jogos)"
   ]
  },
  {
   "cell_type": "code",
   "execution_count": null,
   "metadata": {},
   "outputs": [],
   "source": []
  }
 ],
 "metadata": {
  "kernelspec": {
   "display_name": "Python 3",
   "language": "python",
   "name": "python3"
  },
  "language_info": {
   "codemirror_mode": {
    "name": "ipython",
    "version": 3
   },
   "file_extension": ".py",
   "mimetype": "text/x-python",
   "name": "python",
   "nbconvert_exporter": "python",
   "pygments_lexer": "ipython3",
   "version": "3.6.4"
  }
 },
 "nbformat": 4,
 "nbformat_minor": 2
}
